{
 "cells": [
  {
   "cell_type": "code",
   "execution_count": 2,
   "metadata": {},
   "outputs": [
    {
     "name": "stderr",
     "output_type": "stream",
     "text": [
      "[nltk_data] Downloading package stopwords to\n",
      "[nltk_data]     C:\\Users\\AEPAC\\AppData\\Roaming\\nltk_data...\n",
      "[nltk_data]   Package stopwords is already up-to-date!\n"
     ]
    }
   ],
   "source": [
    "import numpy as np\n",
    "import matplotlib.pyplot as plt\n",
    "import pandas as pd\n",
    "from sklearn.preprocessing import LabelEncoder\n",
    "import re\n",
    "import nltk\n",
    "nltk.download('stopwords')\n",
    "from nltk.corpus import stopwords\n",
    "from nltk.stem.porter import PorterStemmer\n",
    "from joblib import dump, load\n",
    "from sklearn.feature_extraction.text import CountVectorizer\n",
    "from sklearn.model_selection import train_test_split\n",
    "from xgboost import XGBClassifier\n",
    "import seaborn as sns"
   ]
  },
  {
   "cell_type": "code",
   "execution_count": 3,
   "metadata": {},
   "outputs": [
    {
     "data": {
      "text/html": [
       "<div>\n",
       "<style scoped>\n",
       "    .dataframe tbody tr th:only-of-type {\n",
       "        vertical-align: middle;\n",
       "    }\n",
       "\n",
       "    .dataframe tbody tr th {\n",
       "        vertical-align: top;\n",
       "    }\n",
       "\n",
       "    .dataframe thead th {\n",
       "        text-align: right;\n",
       "    }\n",
       "</style>\n",
       "<table border=\"1\" class=\"dataframe\">\n",
       "  <thead>\n",
       "    <tr style=\"text-align: right;\">\n",
       "      <th></th>\n",
       "      <th>Unnamed: 0</th>\n",
       "      <th>airline_sentiment</th>\n",
       "      <th>text</th>\n",
       "    </tr>\n",
       "  </thead>\n",
       "  <tbody>\n",
       "    <tr>\n",
       "      <td>0</td>\n",
       "      <td>1</td>\n",
       "      <td>positive</td>\n",
       "      <td>@VirginAmerica plus you've added commercials t...</td>\n",
       "    </tr>\n",
       "    <tr>\n",
       "      <td>1</td>\n",
       "      <td>3</td>\n",
       "      <td>negative</td>\n",
       "      <td>@VirginAmerica it's really aggressive to blast...</td>\n",
       "    </tr>\n",
       "    <tr>\n",
       "      <td>2</td>\n",
       "      <td>4</td>\n",
       "      <td>negative</td>\n",
       "      <td>@VirginAmerica and it's a really big bad thing...</td>\n",
       "    </tr>\n",
       "    <tr>\n",
       "      <td>3</td>\n",
       "      <td>5</td>\n",
       "      <td>negative</td>\n",
       "      <td>@VirginAmerica seriously would pay $30 a fligh...</td>\n",
       "    </tr>\n",
       "    <tr>\n",
       "      <td>4</td>\n",
       "      <td>6</td>\n",
       "      <td>positive</td>\n",
       "      <td>@VirginAmerica yes, nearly every time I fly VX...</td>\n",
       "    </tr>\n",
       "  </tbody>\n",
       "</table>\n",
       "</div>"
      ],
      "text/plain": [
       "   Unnamed: 0 airline_sentiment  \\\n",
       "0           1          positive   \n",
       "1           3          negative   \n",
       "2           4          negative   \n",
       "3           5          negative   \n",
       "4           6          positive   \n",
       "\n",
       "                                                text  \n",
       "0  @VirginAmerica plus you've added commercials t...  \n",
       "1  @VirginAmerica it's really aggressive to blast...  \n",
       "2  @VirginAmerica and it's a really big bad thing...  \n",
       "3  @VirginAmerica seriously would pay $30 a fligh...  \n",
       "4  @VirginAmerica yes, nearly every time I fly VX...  "
      ]
     },
     "execution_count": 3,
     "metadata": {},
     "output_type": "execute_result"
    }
   ],
   "source": [
    "#Read Data\n",
    "df = pd.read_csv(\"airline_sentiment_analysis.csv\")\n",
    "df.head()"
   ]
  },
  {
   "cell_type": "code",
   "execution_count": 5,
   "metadata": {},
   "outputs": [
    {
     "data": {
      "text/plain": [
       "negative    9178\n",
       "positive    2363\n",
       "Name: airline_sentiment, dtype: int64"
      ]
     },
     "execution_count": 5,
     "metadata": {},
     "output_type": "execute_result"
    },
    {
     "data": {
      "image/png": "[encoded data removed]",
      "text/plain": [
       "<Figure size 432x288 with 1 Axes>"
      ]
     },
     "metadata": {
      "needs_background": "light"
     },
     "output_type": "display_data"
    }
   ],
   "source": [
    "#Plot Data\n",
    "sns.countplot(df.airline_sentiment)\n",
    "df.airline_sentiment.value_counts()"
   ]
  },
  {
   "cell_type": "code",
   "execution_count": 6,
   "metadata": {},
   "outputs": [
    {
     "data": {
      "text/html": [
       "<div>\n",
       "<style scoped>\n",
       "    .dataframe tbody tr th:only-of-type {\n",
       "        vertical-align: middle;\n",
       "    }\n",
       "\n",
       "    .dataframe tbody tr th {\n",
       "        vertical-align: top;\n",
       "    }\n",
       "\n",
       "    .dataframe thead th {\n",
       "        text-align: right;\n",
       "    }\n",
       "</style>\n",
       "<table border=\"1\" class=\"dataframe\">\n",
       "  <thead>\n",
       "    <tr style=\"text-align: right;\">\n",
       "      <th></th>\n",
       "      <th>Unnamed: 0</th>\n",
       "      <th>airline_sentiment</th>\n",
       "      <th>text</th>\n",
       "    </tr>\n",
       "  </thead>\n",
       "  <tbody>\n",
       "    <tr>\n",
       "      <td>988</td>\n",
       "      <td>1305</td>\n",
       "      <td>negative</td>\n",
       "      <td>@united never ever again will I be Flight Book...</td>\n",
       "    </tr>\n",
       "    <tr>\n",
       "      <td>6961</td>\n",
       "      <td>9269</td>\n",
       "      <td>positive</td>\n",
       "      <td>@USAirways Thanks! Sent you DM re: baggage iss...</td>\n",
       "    </tr>\n",
       "    <tr>\n",
       "      <td>2462</td>\n",
       "      <td>3076</td>\n",
       "      <td>negative</td>\n",
       "      <td>@united your airline is the biggest joke of an...</td>\n",
       "    </tr>\n",
       "    <tr>\n",
       "      <td>3093</td>\n",
       "      <td>3870</td>\n",
       "      <td>positive</td>\n",
       "      <td>@united -today the staff @ MSP took customer s...</td>\n",
       "    </tr>\n",
       "    <tr>\n",
       "      <td>2471</td>\n",
       "      <td>3087</td>\n",
       "      <td>negative</td>\n",
       "      <td>@united how are you going to rectify this? Ple...</td>\n",
       "    </tr>\n",
       "    <tr>\n",
       "      <td>...</td>\n",
       "      <td>...</td>\n",
       "      <td>...</td>\n",
       "      <td>...</td>\n",
       "    </tr>\n",
       "    <tr>\n",
       "      <td>2406</td>\n",
       "      <td>3004</td>\n",
       "      <td>negative</td>\n",
       "      <td>@united https://t.co/jpd7NsGRT7. Fyi your staf...</td>\n",
       "    </tr>\n",
       "    <tr>\n",
       "      <td>2692</td>\n",
       "      <td>3353</td>\n",
       "      <td>negative</td>\n",
       "      <td>@united the wifi in the ewr lounge reminds me ...</td>\n",
       "    </tr>\n",
       "    <tr>\n",
       "      <td>1790</td>\n",
       "      <td>2259</td>\n",
       "      <td>positive</td>\n",
       "      <td>@united tonight you made this Fred Flintstone ...</td>\n",
       "    </tr>\n",
       "    <tr>\n",
       "      <td>9228</td>\n",
       "      <td>11862</td>\n",
       "      <td>positive</td>\n",
       "      <td>@USAirways thanks for the reply, hoping everyt...</td>\n",
       "    </tr>\n",
       "    <tr>\n",
       "      <td>2276</td>\n",
       "      <td>2844</td>\n",
       "      <td>positive</td>\n",
       "      <td>@united thank you thank you thank you for cont...</td>\n",
       "    </tr>\n",
       "  </tbody>\n",
       "</table>\n",
       "<p>4726 rows × 3 columns</p>\n",
       "</div>"
      ],
      "text/plain": [
       "      Unnamed: 0 airline_sentiment  \\\n",
       "988         1305          negative   \n",
       "6961        9269          positive   \n",
       "2462        3076          negative   \n",
       "3093        3870          positive   \n",
       "2471        3087          negative   \n",
       "...          ...               ...   \n",
       "2406        3004          negative   \n",
       "2692        3353          negative   \n",
       "1790        2259          positive   \n",
       "9228       11862          positive   \n",
       "2276        2844          positive   \n",
       "\n",
       "                                                   text  \n",
       "988   @united never ever again will I be Flight Book...  \n",
       "6961  @USAirways Thanks! Sent you DM re: baggage iss...  \n",
       "2462  @united your airline is the biggest joke of an...  \n",
       "3093  @united -today the staff @ MSP took customer s...  \n",
       "2471  @united how are you going to rectify this? Ple...  \n",
       "...                                                 ...  \n",
       "2406  @united https://t.co/jpd7NsGRT7. Fyi your staf...  \n",
       "2692  @united the wifi in the ewr lounge reminds me ...  \n",
       "1790  @united tonight you made this Fred Flintstone ...  \n",
       "9228  @USAirways thanks for the reply, hoping everyt...  \n",
       "2276  @united thank you thank you thank you for cont...  \n",
       "\n",
       "[4726 rows x 3 columns]"
      ]
     },
     "execution_count": 6,
     "metadata": {},
     "output_type": "execute_result"
    }
   ],
   "source": [
    "#Take Same number of records for each class \n",
    "df_neg = df[df['airline_sentiment'] == 'negative']\n",
    "df_neg = df_neg.iloc[:2363, :]\n",
    "df_pos = df.drop(df[df['airline_sentiment'] == 'negative'].index)\n",
    "stratified_dataset = pd.concat([df_pos, df_neg])\n",
    "stratified_dataset = stratified_dataset.sample(frac=1)\n",
    "stratified_dataset"
   ]
  },
  {
   "cell_type": "code",
   "execution_count": 7,
   "metadata": {},
   "outputs": [
    {
     "data": {
      "text/plain": [
       "negative    2363\n",
       "positive    2363\n",
       "Name: airline_sentiment, dtype: int64"
      ]
     },
     "execution_count": 7,
     "metadata": {},
     "output_type": "execute_result"
    },
    {
     "data": {
      "image/png": "[encoded data removed]",
      "text/plain": [
       "<Figure size 432x288 with 1 Axes>"
      ]
     },
     "metadata": {
      "needs_background": "light"
     },
     "output_type": "display_data"
    }
   ],
   "source": [
    "sns.countplot(stratified_dataset.airline_sentiment)\n",
    "stratified_dataset.airline_sentiment.value_counts()"
   ]
  },
  {
   "cell_type": "code",
   "execution_count": 8,
   "metadata": {},
   "outputs": [
    {
     "data": {
      "text/html": [
       "<div>\n",
       "<style scoped>\n",
       "    .dataframe tbody tr th:only-of-type {\n",
       "        vertical-align: middle;\n",
       "    }\n",
       "\n",
       "    .dataframe tbody tr th {\n",
       "        vertical-align: top;\n",
       "    }\n",
       "\n",
       "    .dataframe thead th {\n",
       "        text-align: right;\n",
       "    }\n",
       "</style>\n",
       "<table border=\"1\" class=\"dataframe\">\n",
       "  <thead>\n",
       "    <tr style=\"text-align: right;\">\n",
       "      <th></th>\n",
       "      <th>text</th>\n",
       "      <th>airline_sentiment</th>\n",
       "    </tr>\n",
       "  </thead>\n",
       "  <tbody>\n",
       "    <tr>\n",
       "      <td>379</td>\n",
       "      <td>@united Shame that there's no flex to tickets ...</td>\n",
       "      <td>negative</td>\n",
       "    </tr>\n",
       "    <tr>\n",
       "      <td>4854</td>\n",
       "      <td>@SouthwestAir @love_dragonss LAUREN IM SCREAMING</td>\n",
       "      <td>positive</td>\n",
       "    </tr>\n",
       "    <tr>\n",
       "      <td>3636</td>\n",
       "      <td>@SouthwestAir thank you :)</td>\n",
       "      <td>positive</td>\n",
       "    </tr>\n",
       "    <tr>\n",
       "      <td>1563</td>\n",
       "      <td>@united I am - thank you!</td>\n",
       "      <td>positive</td>\n",
       "    </tr>\n",
       "    <tr>\n",
       "      <td>244</td>\n",
       "      <td>@VirginAmerica ok! first time flying with you ...</td>\n",
       "      <td>positive</td>\n",
       "    </tr>\n",
       "    <tr>\n",
       "      <td>...</td>\n",
       "      <td>...</td>\n",
       "      <td>...</td>\n",
       "    </tr>\n",
       "    <tr>\n",
       "      <td>9490</td>\n",
       "      <td>@AmericanAir @dfwairport me too!!  LOVE LIVING...</td>\n",
       "      <td>positive</td>\n",
       "    </tr>\n",
       "    <tr>\n",
       "      <td>145</td>\n",
       "      <td>@VirginAmerica twitter team. you guys killed i...</td>\n",
       "      <td>positive</td>\n",
       "    </tr>\n",
       "    <tr>\n",
       "      <td>2313</td>\n",
       "      <td>@united actually we aren't. Still parked here.</td>\n",
       "      <td>negative</td>\n",
       "    </tr>\n",
       "    <tr>\n",
       "      <td>5369</td>\n",
       "      <td>Why “@JetBlue: Our fleet's on fleek. http://t....</td>\n",
       "      <td>positive</td>\n",
       "    </tr>\n",
       "    <tr>\n",
       "      <td>209</td>\n",
       "      <td>@VirginAmerica Hi! Just wanted to see if you h...</td>\n",
       "      <td>positive</td>\n",
       "    </tr>\n",
       "  </tbody>\n",
       "</table>\n",
       "<p>4726 rows × 2 columns</p>\n",
       "</div>"
      ],
      "text/plain": [
       "                                                   text airline_sentiment\n",
       "379   @united Shame that there's no flex to tickets ...          negative\n",
       "4854   @SouthwestAir @love_dragonss LAUREN IM SCREAMING          positive\n",
       "3636                         @SouthwestAir thank you :)          positive\n",
       "1563                          @united I am - thank you!          positive\n",
       "244   @VirginAmerica ok! first time flying with you ...          positive\n",
       "...                                                 ...               ...\n",
       "9490  @AmericanAir @dfwairport me too!!  LOVE LIVING...          positive\n",
       "145   @VirginAmerica twitter team. you guys killed i...          positive\n",
       "2313     @united actually we aren't. Still parked here.          negative\n",
       "5369  Why “@JetBlue: Our fleet's on fleek. http://t....          positive\n",
       "209   @VirginAmerica Hi! Just wanted to see if you h...          positive\n",
       "\n",
       "[4726 rows x 2 columns]"
      ]
     },
     "execution_count": 8,
     "metadata": {},
     "output_type": "execute_result"
    }
   ],
   "source": [
    "#Shuffle \n",
    "stratified_dataset = stratified_dataset.reindex(np.random.permutation(stratified_dataset.index))\n",
    "stratified_dataset = stratified_dataset[['text', 'airline_sentiment']]\n",
    "stratified_dataset"
   ]
  },
  {
   "cell_type": "code",
   "execution_count": 16,
   "metadata": {},
   "outputs": [],
   "source": [
    "class Preprocess:\n",
    "    def removeExtras(self, review):\n",
    "        review = review = re.sub(r'@+([a-zA-Z_][a-zA-Z_0-9]*)\\s*', ' ', review)\n",
    "        review = re.sub('[^a-zA-Z]', ' ', review)\n",
    "        review = review.lower()\n",
    "        review = review.split()\n",
    "        ps = PorterStemmer()\n",
    "        all_stopwords = stopwords.words('english')\n",
    "        all_stopwords.remove('not')\n",
    "        review = [ps.stem(word) for word in review if not word in set(all_stopwords)]\n",
    "        review = ' '.join(review)\n",
    "        return review\n",
    "    \n",
    "    def formatData(self, stratified_dataset):\n",
    "        Corpus = stratified_dataset['text'].values.tolist()\n",
    "        cv = CountVectorizer(max_features = 1500)\n",
    "        X = cv.fit_transform(Corpus).toarray()\n",
    "        y = stratified_dataset['airline_sentiment'].values.tolist()\n",
    "        y = np.array(y)\n",
    "        lb = LabelEncoder()\n",
    "        y = lb.fit_transform(y)\n",
    "        return X, y, Corpus"
   ]
  },
  {
   "cell_type": "code",
   "execution_count": 18,
   "metadata": {},
   "outputs": [],
   "source": [
    "preprocess = Preprocess()\n",
    "stratified_dataset.text = stratified_dataset['text'].apply(preprocess.removeExtras)"
   ]
  },
  {
   "cell_type": "code",
   "execution_count": 19,
   "metadata": {},
   "outputs": [
    {
     "data": {
      "text/html": [
       "<div>\n",
       "<style scoped>\n",
       "    .dataframe tbody tr th:only-of-type {\n",
       "        vertical-align: middle;\n",
       "    }\n",
       "\n",
       "    .dataframe tbody tr th {\n",
       "        vertical-align: top;\n",
       "    }\n",
       "\n",
       "    .dataframe thead th {\n",
       "        text-align: right;\n",
       "    }\n",
       "</style>\n",
       "<table border=\"1\" class=\"dataframe\">\n",
       "  <thead>\n",
       "    <tr style=\"text-align: right;\">\n",
       "      <th></th>\n",
       "      <th>text</th>\n",
       "      <th>airline_sentiment</th>\n",
       "    </tr>\n",
       "  </thead>\n",
       "  <tbody>\n",
       "    <tr>\n",
       "      <td>379</td>\n",
       "      <td>shame flex ticket transfer rule even call neur...</td>\n",
       "      <td>negative</td>\n",
       "    </tr>\n",
       "    <tr>\n",
       "      <td>4854</td>\n",
       "      <td>lauren im scream</td>\n",
       "      <td>positive</td>\n",
       "    </tr>\n",
       "    <tr>\n",
       "      <td>3636</td>\n",
       "      <td>thank</td>\n",
       "      <td>positive</td>\n",
       "    </tr>\n",
       "    <tr>\n",
       "      <td>1563</td>\n",
       "      <td>thank</td>\n",
       "      <td>positive</td>\n",
       "    </tr>\n",
       "    <tr>\n",
       "      <td>244</td>\n",
       "      <td>ok first time fli tonight</td>\n",
       "      <td>positive</td>\n",
       "    </tr>\n",
       "    <tr>\n",
       "      <td>...</td>\n",
       "      <td>...</td>\n",
       "      <td>...</td>\n",
       "    </tr>\n",
       "    <tr>\n",
       "      <td>9490</td>\n",
       "      <td>love live close alway great view</td>\n",
       "      <td>positive</td>\n",
       "    </tr>\n",
       "    <tr>\n",
       "      <td>145</td>\n",
       "      <td>twitter team guy kill reschedul asap thank</td>\n",
       "      <td>positive</td>\n",
       "    </tr>\n",
       "    <tr>\n",
       "      <td>2313</td>\n",
       "      <td>actual still park</td>\n",
       "      <td>negative</td>\n",
       "    </tr>\n",
       "    <tr>\n",
       "      <td>5369</td>\n",
       "      <td>fleet fleek http co nvbj ipx</td>\n",
       "      <td>positive</td>\n",
       "    </tr>\n",
       "    <tr>\n",
       "      <td>209</td>\n",
       "      <td>hi want see new rout plan year newark love fli...</td>\n",
       "      <td>positive</td>\n",
       "    </tr>\n",
       "  </tbody>\n",
       "</table>\n",
       "<p>4726 rows × 2 columns</p>\n",
       "</div>"
      ],
      "text/plain": [
       "                                                   text airline_sentiment\n",
       "379   shame flex ticket transfer rule even call neur...          negative\n",
       "4854                                   lauren im scream          positive\n",
       "3636                                              thank          positive\n",
       "1563                                              thank          positive\n",
       "244                           ok first time fli tonight          positive\n",
       "...                                                 ...               ...\n",
       "9490                   love live close alway great view          positive\n",
       "145          twitter team guy kill reschedul asap thank          positive\n",
       "2313                                  actual still park          negative\n",
       "5369                       fleet fleek http co nvbj ipx          positive\n",
       "209   hi want see new rout plan year newark love fli...          positive\n",
       "\n",
       "[4726 rows x 2 columns]"
      ]
     },
     "execution_count": 19,
     "metadata": {},
     "output_type": "execute_result"
    }
   ],
   "source": [
    "#Check data\n",
    "stratified_dataset"
   ]
  },
  {
   "cell_type": "code",
   "execution_count": 20,
   "metadata": {},
   "outputs": [],
   "source": [
    "#Preprocess data and find X, y and corpus\n",
    "X, y, corpus = preprocess.formatData(stratified_dataset)"
   ]
  },
  {
   "cell_type": "code",
   "execution_count": 25,
   "metadata": {},
   "outputs": [],
   "source": [
    "#Split into train test\n",
    "X_train, X_test, y_train, y_test = train_test_split(X, y, test_size = 0.20, random_state = 0)"
   ]
  },
  {
   "cell_type": "code",
   "execution_count": 26,
   "metadata": {},
   "outputs": [
    {
     "name": "stdout",
     "output_type": "stream",
     "text": [
      "[[1 1]\n",
      " [0 0]\n",
      " [0 0]\n",
      " ...\n",
      " [0 0]\n",
      " [0 0]\n",
      " [1 0]]\n"
     ]
    }
   ],
   "source": [
    "#Train and validate\n",
    "classifier = XGBClassifier()\n",
    "classifier.fit(X_train, y_train)\n",
    "y_pred = classifier.predict(X_test)\n",
    "print(np.concatenate((y_pred.reshape(len(y_pred),1), y_test.reshape(len(y_test),1)),1))"
   ]
  },
  {
   "cell_type": "code",
   "execution_count": 27,
   "metadata": {},
   "outputs": [
    {
     "name": "stdout",
     "output_type": "stream",
     "text": [
      "[[417  54]\n",
      " [ 63 412]]\n",
      "              precision    recall  f1-score   support\n",
      "\n",
      "           0       0.87      0.89      0.88       471\n",
      "           1       0.88      0.87      0.88       475\n",
      "\n",
      "    accuracy                           0.88       946\n",
      "   macro avg       0.88      0.88      0.88       946\n",
      "weighted avg       0.88      0.88      0.88       946\n",
      "\n"
     ]
    }
   ],
   "source": [
    "#Check Classifier Performance\n",
    "from sklearn.metrics import confusion_matrix, accuracy_score, classification_report\n",
    "cm = confusion_matrix(y_test, y_pred)\n",
    "print(cm)\n",
    "accuracy_score(y_test, y_pred)\n",
    "print(classification_report(y_test, y_pred))"
   ]
  },
  {
   "cell_type": "code",
   "execution_count": 28,
   "metadata": {},
   "outputs": [
    {
     "data": {
      "text/plain": [
       "['Corpus.joblib']"
      ]
     },
     "execution_count": 28,
     "metadata": {},
     "output_type": "execute_result"
    }
   ],
   "source": [
    "#Save corpus for future use\n",
    "dump(corpus, 'Corpus.joblib')"
   ]
  },
  {
   "cell_type": "code",
   "execution_count": 29,
   "metadata": {},
   "outputs": [
    {
     "data": {
      "text/plain": [
       "['sentimentClassifier.joblib']"
      ]
     },
     "execution_count": 29,
     "metadata": {},
     "output_type": "execute_result"
    }
   ],
   "source": [
    "# Save classifier for future use\n",
    "dump(classifier, 'sentimentClassifier.joblib')"
   ]
  }
 ],
 "metadata": {
  "kernelspec": {
   "display_name": "Python 3",
   "language": "python",
   "name": "python3"
  },
  "language_info": {
   "codemirror_mode": {
    "name": "ipython",
    "version": 3
   },
   "file_extension": ".py",
   "mimetype": "text/x-python",
   "name": "python",
   "nbconvert_exporter": "python",
   "pygments_lexer": "ipython3",
   "version": "3.7.4"
  }
 },
 "nbformat": 4,
 "nbformat_minor": 2
}
